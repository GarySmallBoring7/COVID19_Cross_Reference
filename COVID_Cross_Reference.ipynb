{
 "cells": [
  {
   "cell_type": "markdown",
   "id": "7d8a9e4c",
   "metadata": {},
   "source": [
    "# COVID Cross Reference\n",
    "Find cross-reactive (same) TCR sequences for ImmuneCODE(MIRA) database (SARS-CoV2) and other viruses in VDJdb:\n",
    "<ul>\n",
    "    <li>M1: GILGFVFTL</li>\n",
    "    <li>CMV(pp65): NLVPMVATV </li>\n",
    "    <li>MART-1: ELAGIGILTV </li>\n",
    "</ul>\n",
    "\n",
    "SARS-CoV2 epitopes are from TSCAN (their gene region and occurrences in ImmuneCODE):\n",
    "\n",
    "|Epitope|Gene Region|Occurrences|\n",
    "|-----|-------|------|\n",
    "|KLWAQCVQL|ORF1ab|741|\n",
    "|YLQPRTFLL|S|1138|\n",
    "|ALWEIQQVV|ORF1ab|5|\n",
    "|LLLDRLNQL|N|1028|\n"
   ]
  },
  {
   "cell_type": "markdown",
   "id": "30f71654",
   "metadata": {},
   "source": [
    "## Define functions and constants"
   ]
  },
  {
   "cell_type": "code",
   "execution_count": 39,
   "id": "6e3db5eb",
   "metadata": {},
   "outputs": [],
   "source": [
    "import numpy as np\n",
    "import pandas as pd\n",
    "import scipy.sparse\n",
    "import seaborn as sns\n",
    "import matplotlib.pyplot as plt\n",
    "from pathlib import Path\n",
    "from scipy import sparse\n",
    "import warnings\n",
    "import time\n",
    "import plotly\n",
    "\n",
    "# Functions for data\n",
    "def _read_raw_data(file_path):\n",
    "    file_type = file_path[-3:]\n",
    "    assert file_type == 'csv' or file_type == 'tsv', \"The input file must be csv or tsv file.\"\n",
    "    if file_type == 'csv':\n",
    "        df = pd.read_csv(file_path)\n",
    "    else:\n",
    "        df = pd.read_csv(file_path, sep='\\t')\n",
    "    return df\n",
    "\n",
    "def read_data(file_path):\n",
    "    raw_data_df = _read_raw_data(file_path)\n",
    "    raw_data_columns = raw_data_df.columns.values.tolist()\n",
    "    assert 'epitope' in raw_data_columns and 'cdr3b' in raw_data_columns, \"Columns 'Epitope' and 'CDR3' must in the input file.\"\n",
    "    data_df = pd.DataFrame(raw_data_df[['epitope', 'cdr3b']])\n",
    "    return data_df\n",
    "\n",
    "\n",
    "def read_data_MIRA(file_path):\n",
    "    raw_data_df = _read_raw_data(file_path)\n",
    "    raw_data_columns = raw_data_df.columns.values.tolist()\n",
    "    assert 'TCR BioIdentity' in raw_data_columns and 'Amino Acids' in raw_data_columns, \"Columns 'Epitope' and 'CDR3' must in the input file.\"\n",
    "    data_df = pd.DataFrame(\n",
    "        raw_data_df[['TCR BioIdentity', 'Amino Acids', 'Experiment', 'Start Index in Genome', 'End Index in Genome',\n",
    "                     'ORF Coverage']])\n",
    "    return data_df\n",
    "\n",
    "\n",
    "def read_data_Metadata(file_path):\n",
    "    raw_data_df = _read_raw_data(file_path)\n",
    "    raw_data_columns = raw_data_df.columns.values.tolist()\n",
    "    assert 'Experiment' in raw_data_columns and 'HLA-A-1' in raw_data_columns and 'HLA-A-2' in raw_data_columns, \\\n",
    "        \"Columns 'Experiment' , 'HLA-A-1' and 'HLA-A-2' must in the input file.\"\n",
    "    data_df = pd.DataFrame(\n",
    "        raw_data_df[['Experiment', 'HLA-A-2', 'HLA-A-2']])\n",
    "    return data_df\n",
    "\n",
    "\n",
    "def read_data_VDJdb(file_path):\n",
    "    raw_data_df = _read_raw_data(file_path)\n",
    "    raw_data_columns = raw_data_df.columns.values.tolist()\n",
    "    assert 'Gene' in raw_data_columns and 'CDR3' in raw_data_columns, \\\n",
    "        \"Gene' and 'CDR3' must in the input file.\"\n",
    "    data_df = pd.DataFrame(\n",
    "        raw_data_df[['Gene', 'CDR3', 'V', 'J']])\n",
    "    data_df = data_df.rename(columns={'CDR3': 'cdr3'})\n",
    "    return data_df\n",
    "\n",
    "\n",
    "def arrange_MIRA(data_df):\n",
    "    data_df[['cdr3b', 'V', 'J']] = data_df['TCR BioIdentity'].str.split('+', expand=True)\n",
    "    data_df = data_df.drop(columns=[\"TCR BioIdentity\"])\n",
    "    data_df = data_df.rename(columns={'Amino Acids': 'epitope'})\n",
    "    return data_df\n",
    "\n",
    "TSCAN_epitope = ['LLLDRLNQL','YLQPRTFLL','KLWAQCVQL','ALWEIQQVV']"
   ]
  },
  {
   "cell_type": "markdown",
   "id": "ec3b7ac2",
   "metadata": {},
   "source": [
    "## Read MIRA data"
   ]
  },
  {
   "cell_type": "markdown",
   "id": "559ac568",
   "metadata": {},
   "source": [
    "### Rearrangments and removal of duplicates"
   ]
  },
  {
   "cell_type": "markdown",
   "id": "d75dbf75",
   "metadata": {},
   "source": [
    " Format is ['epitope', 'Experiment', 'Start Index in Genome', 'End Index in Genome', 'cdr3b', 'V', 'J']"
   ]
  },
  {
   "cell_type": "code",
   "execution_count": 4,
   "id": "50ac4219",
   "metadata": {},
   "outputs": [],
   "source": [
    "MIRA_data_folder = Path('./Data')\n",
    "MIRA_pathlib_ci = MIRA_data_folder / 'peptide-detail-ci.csv'\n",
    "MIRA_path_ci = str(MIRA_pathlib_ci)\n",
    "MIRA_pathlib_cii = MIRA_data_folder / 'peptide-detail-cii.csv'\n",
    "MIRA_path_cii = str(MIRA_pathlib_cii)\n",
    "# Read and arrange data\n",
    "data_raw_ci = read_data_MIRA(MIRA_path_ci)\n",
    "data_raw_cii = read_data_MIRA(MIRA_path_cii)\n",
    "data_ci = arrange_MIRA(data_raw_ci)\n",
    "data_cii = arrange_MIRA(data_raw_cii)"
   ]
  },
  {
   "cell_type": "code",
   "execution_count": 6,
   "id": "e4878219",
   "metadata": {},
   "outputs": [],
   "source": [
    "# Drop Duplicates\n",
    "data_ci = data_ci.drop_duplicates(ignore_index=True)\n",
    "data_cii = data_cii.drop_duplicates(ignore_index=True)  \n",
    "data_ci['MHC'] = 'I'\n",
    "data_cii['MHC'] = 'II'\n",
    "# Combine raw data and drop duplicates\n",
    "data_all_raw = pd.concat([data_ci, data_cii], ignore_index=True)\n",
    "MIRA_data = data_all_raw.drop_duplicates(ignore_index=True)"
   ]
  },
  {
   "cell_type": "markdown",
   "id": "1ac9c86a",
   "metadata": {},
   "source": [
    "### View the table format"
   ]
  },
  {
   "cell_type": "code",
   "execution_count": 7,
   "id": "e4a2827e",
   "metadata": {},
   "outputs": [
    {
     "data": {
      "text/plain": [
       "(156522, 9)"
      ]
     },
     "execution_count": 7,
     "metadata": {},
     "output_type": "execute_result"
    }
   ],
   "source": [
    "MIRA_data.shape"
   ]
  },
  {
   "cell_type": "code",
   "execution_count": 10,
   "id": "61a4321b",
   "metadata": {},
   "outputs": [
    {
     "data": {
      "text/html": [
       "<div>\n",
       "<style scoped>\n",
       "    .dataframe tbody tr th:only-of-type {\n",
       "        vertical-align: middle;\n",
       "    }\n",
       "\n",
       "    .dataframe tbody tr th {\n",
       "        vertical-align: top;\n",
       "    }\n",
       "\n",
       "    .dataframe thead th {\n",
       "        text-align: right;\n",
       "    }\n",
       "</style>\n",
       "<table border=\"1\" class=\"dataframe\">\n",
       "  <thead>\n",
       "    <tr style=\"text-align: right;\">\n",
       "      <th></th>\n",
       "      <th>epitope</th>\n",
       "      <th>Experiment</th>\n",
       "      <th>Start Index in Genome</th>\n",
       "      <th>End Index in Genome</th>\n",
       "      <th>ORF Coverage</th>\n",
       "      <th>cdr3b</th>\n",
       "      <th>V</th>\n",
       "      <th>J</th>\n",
       "      <th>MHC</th>\n",
       "    </tr>\n",
       "  </thead>\n",
       "  <tbody>\n",
       "    <tr>\n",
       "      <th>0</th>\n",
       "      <td>ADAGFIKQY,AELEGIQY,LADAGFIKQY,TLADAGFIK</td>\n",
       "      <td>eAV93</td>\n",
       "      <td>533</td>\n",
       "      <td>24073</td>\n",
       "      <td>ORF1ab,surface glycoprotein</td>\n",
       "      <td>CASSAQGTGDRGYTF</td>\n",
       "      <td>TCRBV27-01</td>\n",
       "      <td>TCRBJ01-02</td>\n",
       "      <td>I</td>\n",
       "    </tr>\n",
       "    <tr>\n",
       "      <th>1</th>\n",
       "      <td>ADAGFIKQY,AELEGIQY,LADAGFIKQY,TLADAGFIK</td>\n",
       "      <td>eOX56</td>\n",
       "      <td>533</td>\n",
       "      <td>24073</td>\n",
       "      <td>ORF1ab,surface glycoprotein</td>\n",
       "      <td>CASSLVATGNTGELFF</td>\n",
       "      <td>TCRBV07-09</td>\n",
       "      <td>TCRBJ02-02</td>\n",
       "      <td>I</td>\n",
       "    </tr>\n",
       "    <tr>\n",
       "      <th>2</th>\n",
       "      <td>ADAGFIKQY,AELEGIQY,LADAGFIKQY,TLADAGFIK</td>\n",
       "      <td>eAV93</td>\n",
       "      <td>533</td>\n",
       "      <td>24073</td>\n",
       "      <td>ORF1ab,surface glycoprotein</td>\n",
       "      <td>CASSKGTVSGLSG</td>\n",
       "      <td>TCRBV21-01</td>\n",
       "      <td>TCRBJ02-07</td>\n",
       "      <td>I</td>\n",
       "    </tr>\n",
       "    <tr>\n",
       "      <th>3</th>\n",
       "      <td>ADAGFIKQY,AELEGIQY,LADAGFIKQY,TLADAGFIK</td>\n",
       "      <td>eQD124</td>\n",
       "      <td>533</td>\n",
       "      <td>24073</td>\n",
       "      <td>ORF1ab,surface glycoprotein</td>\n",
       "      <td>CALKVGADTQYF</td>\n",
       "      <td>TCRBV30-01</td>\n",
       "      <td>TCRBJ02-03</td>\n",
       "      <td>I</td>\n",
       "    </tr>\n",
       "    <tr>\n",
       "      <th>4</th>\n",
       "      <td>ADAGFIKQY,AELEGIQY,LADAGFIKQY,TLADAGFIK</td>\n",
       "      <td>eAV93</td>\n",
       "      <td>533</td>\n",
       "      <td>24073</td>\n",
       "      <td>ORF1ab,surface glycoprotein</td>\n",
       "      <td>CASSLWASGRGGTGELFF</td>\n",
       "      <td>TCRBV27-01</td>\n",
       "      <td>TCRBJ02-02</td>\n",
       "      <td>I</td>\n",
       "    </tr>\n",
       "  </tbody>\n",
       "</table>\n",
       "</div>"
      ],
      "text/plain": [
       "                                   epitope Experiment  Start Index in Genome  \\\n",
       "0  ADAGFIKQY,AELEGIQY,LADAGFIKQY,TLADAGFIK      eAV93                    533   \n",
       "1  ADAGFIKQY,AELEGIQY,LADAGFIKQY,TLADAGFIK      eOX56                    533   \n",
       "2  ADAGFIKQY,AELEGIQY,LADAGFIKQY,TLADAGFIK      eAV93                    533   \n",
       "3  ADAGFIKQY,AELEGIQY,LADAGFIKQY,TLADAGFIK     eQD124                    533   \n",
       "4  ADAGFIKQY,AELEGIQY,LADAGFIKQY,TLADAGFIK      eAV93                    533   \n",
       "\n",
       "   End Index in Genome                 ORF Coverage               cdr3b  \\\n",
       "0                24073  ORF1ab,surface glycoprotein     CASSAQGTGDRGYTF   \n",
       "1                24073  ORF1ab,surface glycoprotein    CASSLVATGNTGELFF   \n",
       "2                24073  ORF1ab,surface glycoprotein       CASSKGTVSGLSG   \n",
       "3                24073  ORF1ab,surface glycoprotein        CALKVGADTQYF   \n",
       "4                24073  ORF1ab,surface glycoprotein  CASSLWASGRGGTGELFF   \n",
       "\n",
       "            V           J MHC  \n",
       "0  TCRBV27-01  TCRBJ01-02   I  \n",
       "1  TCRBV07-09  TCRBJ02-02   I  \n",
       "2  TCRBV21-01  TCRBJ02-07   I  \n",
       "3  TCRBV30-01  TCRBJ02-03   I  \n",
       "4  TCRBV27-01  TCRBJ02-02   I  "
      ]
     },
     "execution_count": 10,
     "metadata": {},
     "output_type": "execute_result"
    }
   ],
   "source": [
    "MIRA_data.head(5)"
   ]
  },
  {
   "cell_type": "markdown",
   "id": "a6b322f0",
   "metadata": {},
   "source": [
    "## Cross Reference with M1\n",
    "### Read M1 data"
   ]
  },
  {
   "cell_type": "markdown",
   "id": "df99b62d",
   "metadata": {},
   "source": [
    "In this dataset, the M1 epitope is GILGFVFTL. All cdrs are from HomoSapiens (human).\n",
    "All are HLA-A02 cdrs. All are MHC class I.\n",
    "The format is ['Gene', 'cdr3', 'V', 'J']"
   ]
  },
  {
   "cell_type": "code",
   "execution_count": 12,
   "id": "770d8141",
   "metadata": {},
   "outputs": [],
   "source": [
    "M1_data_folder = Path('./Data')\n",
    "M1_pathlib = M1_data_folder / 'VDJdb_M1_TCR.tsv'\n",
    "M1_raw = read_data_VDJdb(str(M1_pathlib))\n",
    "M1_raw = M1_raw.drop_duplicates(ignore_index=True)\n",
    "# Rearrange M1_data\n",
    "M1_data = M1_raw.loc[M1_raw['Gene'] == 'TRB'] \n",
    "M1_data = M1_data.rename(columns={'cdr3': 'cdr3b'})\n",
    "M1_cdr3b = M1_data[['cdr3b']]\n",
    "M1_cdr3b = M1_cdr3b.drop_duplicates(ignore_index=True) "
   ]
  },
  {
   "cell_type": "code",
   "execution_count": 18,
   "id": "54315215",
   "metadata": {},
   "outputs": [
    {
     "data": {
      "text/plain": [
       "(3407, 1)"
      ]
     },
     "execution_count": 18,
     "metadata": {},
     "output_type": "execute_result"
    }
   ],
   "source": [
    "M1_cdr3b.shape"
   ]
  },
  {
   "cell_type": "code",
   "execution_count": 19,
   "id": "6800d4f7",
   "metadata": {},
   "outputs": [
    {
     "data": {
      "text/html": [
       "<div>\n",
       "<style scoped>\n",
       "    .dataframe tbody tr th:only-of-type {\n",
       "        vertical-align: middle;\n",
       "    }\n",
       "\n",
       "    .dataframe tbody tr th {\n",
       "        vertical-align: top;\n",
       "    }\n",
       "\n",
       "    .dataframe thead th {\n",
       "        text-align: right;\n",
       "    }\n",
       "</style>\n",
       "<table border=\"1\" class=\"dataframe\">\n",
       "  <thead>\n",
       "    <tr style=\"text-align: right;\">\n",
       "      <th></th>\n",
       "      <th>cdr3b</th>\n",
       "    </tr>\n",
       "  </thead>\n",
       "  <tbody>\n",
       "    <tr>\n",
       "      <th>0</th>\n",
       "      <td>CASSSRSSYEQYF</td>\n",
       "    </tr>\n",
       "    <tr>\n",
       "      <th>1</th>\n",
       "      <td>CASSSRASYEQYF</td>\n",
       "    </tr>\n",
       "    <tr>\n",
       "      <th>2</th>\n",
       "      <td>CASSTRGAYEQYF</td>\n",
       "    </tr>\n",
       "    <tr>\n",
       "      <th>3</th>\n",
       "      <td>CASSSRSAYEQYF</td>\n",
       "    </tr>\n",
       "    <tr>\n",
       "      <th>4</th>\n",
       "      <td>CSVLQGSPYEQYF</td>\n",
       "    </tr>\n",
       "  </tbody>\n",
       "</table>\n",
       "</div>"
      ],
      "text/plain": [
       "           cdr3b\n",
       "0  CASSSRSSYEQYF\n",
       "1  CASSSRASYEQYF\n",
       "2  CASSTRGAYEQYF\n",
       "3  CASSSRSAYEQYF\n",
       "4  CSVLQGSPYEQYF"
      ]
     },
     "execution_count": 19,
     "metadata": {},
     "output_type": "execute_result"
    }
   ],
   "source": [
    "M1_cdr3b.head(5)"
   ]
  },
  {
   "cell_type": "markdown",
   "id": "67340ea8",
   "metadata": {},
   "source": [
    "### Find shared CDR3b of M1 with COVID-19"
   ]
  },
  {
   "cell_type": "markdown",
   "id": "84b03c1b",
   "metadata": {},
   "source": [
    "This will extract entries with same cdr3b from MIRA dataset "
   ]
  },
  {
   "cell_type": "code",
   "execution_count": 15,
   "id": "55afb5b9",
   "metadata": {},
   "outputs": [],
   "source": [
    "M1_Common = pd.DataFrame(columns=data_all.columns.values.tolist())\n",
    "for index, row in MIRA_data.iterrows():\n",
    "    if row['cdr3b'] in M1_cdr3b['cdr3b'].values:\n",
    "        M1_Common = M1_Common.append(row, ignore_index=True)"
   ]
  },
  {
   "cell_type": "code",
   "execution_count": 55,
   "id": "5adc02ac",
   "metadata": {},
   "outputs": [
    {
     "data": {
      "text/plain": [
       "276"
      ]
     },
     "execution_count": 55,
     "metadata": {},
     "output_type": "execute_result"
    }
   ],
   "source": [
    "len(pd.unique(M1_Common['cdr3b']))"
   ]
  },
  {
   "cell_type": "code",
   "execution_count": 56,
   "id": "3c343c1c",
   "metadata": {},
   "outputs": [
    {
     "data": {
      "text/html": [
       "<div>\n",
       "<style scoped>\n",
       "    .dataframe tbody tr th:only-of-type {\n",
       "        vertical-align: middle;\n",
       "    }\n",
       "\n",
       "    .dataframe tbody tr th {\n",
       "        vertical-align: top;\n",
       "    }\n",
       "\n",
       "    .dataframe thead th {\n",
       "        text-align: right;\n",
       "    }\n",
       "</style>\n",
       "<table border=\"1\" class=\"dataframe\">\n",
       "  <thead>\n",
       "    <tr style=\"text-align: right;\">\n",
       "      <th></th>\n",
       "      <th>epitope</th>\n",
       "      <th>Experiment</th>\n",
       "      <th>Start Index in Genome</th>\n",
       "      <th>End Index in Genome</th>\n",
       "      <th>ORF Coverage</th>\n",
       "      <th>cdr3b</th>\n",
       "      <th>V</th>\n",
       "      <th>J</th>\n",
       "      <th>MHC</th>\n",
       "    </tr>\n",
       "  </thead>\n",
       "  <tbody>\n",
       "    <tr>\n",
       "      <th>0</th>\n",
       "      <td>APKEIIFL,KEIIFLEGETL</td>\n",
       "      <td>eEE226</td>\n",
       "      <td>2468</td>\n",
       "      <td>2506</td>\n",
       "      <td>ORF1ab</td>\n",
       "      <td>CASSYTLNTEAFF</td>\n",
       "      <td>TCRBV27-01</td>\n",
       "      <td>TCRBJ01-01</td>\n",
       "      <td>I</td>\n",
       "    </tr>\n",
       "    <tr>\n",
       "      <th>1</th>\n",
       "      <td>APKEIIFL,KEIIFLEGETL</td>\n",
       "      <td>eAV93</td>\n",
       "      <td>2468</td>\n",
       "      <td>2506</td>\n",
       "      <td>ORF1ab</td>\n",
       "      <td>CASSSGNTEAFF</td>\n",
       "      <td>TCRBV05-01</td>\n",
       "      <td>TCRBJ01-01</td>\n",
       "      <td>I</td>\n",
       "    </tr>\n",
       "    <tr>\n",
       "      <th>2</th>\n",
       "      <td>APKEIIFL,KEIIFLEGETL</td>\n",
       "      <td>eEE226</td>\n",
       "      <td>2468</td>\n",
       "      <td>2506</td>\n",
       "      <td>ORF1ab</td>\n",
       "      <td>CASGGTSTDTQYF</td>\n",
       "      <td>TCRBV12-05</td>\n",
       "      <td>TCRBJ02-03</td>\n",
       "      <td>I</td>\n",
       "    </tr>\n",
       "    <tr>\n",
       "      <th>3</th>\n",
       "      <td>APKEIIFL,KEIIFLEGETL</td>\n",
       "      <td>eXL30</td>\n",
       "      <td>2468</td>\n",
       "      <td>2506</td>\n",
       "      <td>ORF1ab</td>\n",
       "      <td>CASSHGAEAFF</td>\n",
       "      <td>TCRBV03-01/03-02</td>\n",
       "      <td>TCRBJ01-01</td>\n",
       "      <td>I</td>\n",
       "    </tr>\n",
       "    <tr>\n",
       "      <th>4</th>\n",
       "      <td>KPLEFGATSAAL</td>\n",
       "      <td>eOX52</td>\n",
       "      <td>3137</td>\n",
       "      <td>3172</td>\n",
       "      <td>ORF1ab</td>\n",
       "      <td>CASSIVSNQPQHF</td>\n",
       "      <td>TCRBV19-01</td>\n",
       "      <td>TCRBJ01-05</td>\n",
       "      <td>I</td>\n",
       "    </tr>\n",
       "  </tbody>\n",
       "</table>\n",
       "</div>"
      ],
      "text/plain": [
       "                epitope Experiment Start Index in Genome End Index in Genome  \\\n",
       "0  APKEIIFL,KEIIFLEGETL     eEE226                  2468                2506   \n",
       "1  APKEIIFL,KEIIFLEGETL      eAV93                  2468                2506   \n",
       "2  APKEIIFL,KEIIFLEGETL     eEE226                  2468                2506   \n",
       "3  APKEIIFL,KEIIFLEGETL      eXL30                  2468                2506   \n",
       "4          KPLEFGATSAAL      eOX52                  3137                3172   \n",
       "\n",
       "  ORF Coverage          cdr3b                 V           J MHC  \n",
       "0       ORF1ab  CASSYTLNTEAFF        TCRBV27-01  TCRBJ01-01   I  \n",
       "1       ORF1ab   CASSSGNTEAFF        TCRBV05-01  TCRBJ01-01   I  \n",
       "2       ORF1ab  CASGGTSTDTQYF        TCRBV12-05  TCRBJ02-03   I  \n",
       "3       ORF1ab    CASSHGAEAFF  TCRBV03-01/03-02  TCRBJ01-01   I  \n",
       "4       ORF1ab  CASSIVSNQPQHF        TCRBV19-01  TCRBJ01-05   I  "
      ]
     },
     "execution_count": 56,
     "metadata": {},
     "output_type": "execute_result"
    }
   ],
   "source": [
    "M1_Common.head(5)"
   ]
  },
  {
   "cell_type": "markdown",
   "id": "bdecc200",
   "metadata": {},
   "source": [
    "### Write to file"
   ]
  },
  {
   "cell_type": "code",
   "execution_count": 20,
   "id": "ea843b0d",
   "metadata": {},
   "outputs": [],
   "source": [
    "M1_Common.to_csv(str(MIRA_data_folder / \"Output/M1_Common.csv\"), index=False)"
   ]
  },
  {
   "cell_type": "markdown",
   "id": "547c1d87",
   "metadata": {},
   "source": [
    "### Appearance of TSCAN epitopes in shared CDR3b binding targets"
   ]
  },
  {
   "cell_type": "code",
   "execution_count": 27,
   "id": "b04ca879",
   "metadata": {},
   "outputs": [
    {
     "data": {
      "text/html": [
       "<div>\n",
       "<style scoped>\n",
       "    .dataframe tbody tr th:only-of-type {\n",
       "        vertical-align: middle;\n",
       "    }\n",
       "\n",
       "    .dataframe tbody tr th {\n",
       "        vertical-align: top;\n",
       "    }\n",
       "\n",
       "    .dataframe thead th {\n",
       "        text-align: right;\n",
       "    }\n",
       "</style>\n",
       "<table border=\"1\" class=\"dataframe\">\n",
       "  <thead>\n",
       "    <tr style=\"text-align: right;\">\n",
       "      <th></th>\n",
       "      <th>epitope</th>\n",
       "      <th>Experiment</th>\n",
       "      <th>Start Index in Genome</th>\n",
       "      <th>End Index in Genome</th>\n",
       "      <th>ORF Coverage</th>\n",
       "      <th>cdr3b</th>\n",
       "      <th>V</th>\n",
       "      <th>J</th>\n",
       "      <th>MHC</th>\n",
       "    </tr>\n",
       "  </thead>\n",
       "  <tbody>\n",
       "    <tr>\n",
       "      <th>534</th>\n",
       "      <td>ALALLLLDR,GDAALALLLL,LALLLLDRL,LLLDRLNQL,LLLLD...</td>\n",
       "      <td>eHO136</td>\n",
       "      <td>28916</td>\n",
       "      <td>28963</td>\n",
       "      <td>nucleocapsid phosphoprotein</td>\n",
       "      <td>CASSQGNYGYTF</td>\n",
       "      <td>TCRBV14-01</td>\n",
       "      <td>TCRBJ01-02</td>\n",
       "      <td>I</td>\n",
       "    </tr>\n",
       "    <tr>\n",
       "      <th>535</th>\n",
       "      <td>ALALLLLDR,GDAALALLLL,LALLLLDRL,LLLDRLNQL,LLLLD...</td>\n",
       "      <td>eOX49</td>\n",
       "      <td>28916</td>\n",
       "      <td>28963</td>\n",
       "      <td>nucleocapsid phosphoprotein</td>\n",
       "      <td>CASSQGNYGYTF</td>\n",
       "      <td>TCRBV03-01/03-02</td>\n",
       "      <td>TCRBJ01-02</td>\n",
       "      <td>I</td>\n",
       "    </tr>\n",
       "    <tr>\n",
       "      <th>536</th>\n",
       "      <td>ALALLLLDR,GDAALALLLL,LALLLLDRL,LLLDRLNQL,LLLLD...</td>\n",
       "      <td>eHO140</td>\n",
       "      <td>28916</td>\n",
       "      <td>28963</td>\n",
       "      <td>nucleocapsid phosphoprotein</td>\n",
       "      <td>CASGLPYEQYF</td>\n",
       "      <td>TCRBV27-01</td>\n",
       "      <td>TCRBJ02-07</td>\n",
       "      <td>I</td>\n",
       "    </tr>\n",
       "    <tr>\n",
       "      <th>577</th>\n",
       "      <td>NGGDAALALLLLDRLNQLE,QASSRSSSRSRNSSRNSTP,RSRNSS...</td>\n",
       "      <td>eAV100</td>\n",
       "      <td>28814</td>\n",
       "      <td>28966</td>\n",
       "      <td>nucleocapsid phosphoprotein</td>\n",
       "      <td>CASSPRSSYEQYF</td>\n",
       "      <td>TCRBV18-01</td>\n",
       "      <td>TCRBJ02-07</td>\n",
       "      <td>II</td>\n",
       "    </tr>\n",
       "    <tr>\n",
       "      <th>578</th>\n",
       "      <td>NGGDAALALLLLDRLNQLE,QASSRSSSRSRNSSRNSTP,RSRNSS...</td>\n",
       "      <td>eNL187</td>\n",
       "      <td>28814</td>\n",
       "      <td>28966</td>\n",
       "      <td>nucleocapsid phosphoprotein</td>\n",
       "      <td>CASSLGTSYEQYF</td>\n",
       "      <td>TCRBV05-05</td>\n",
       "      <td>TCRBJ02-07</td>\n",
       "      <td>II</td>\n",
       "    </tr>\n",
       "  </tbody>\n",
       "</table>\n",
       "</div>"
      ],
      "text/plain": [
       "                                               epitope Experiment  \\\n",
       "534  ALALLLLDR,GDAALALLLL,LALLLLDRL,LLLDRLNQL,LLLLD...     eHO136   \n",
       "535  ALALLLLDR,GDAALALLLL,LALLLLDRL,LLLDRLNQL,LLLLD...      eOX49   \n",
       "536  ALALLLLDR,GDAALALLLL,LALLLLDRL,LLLDRLNQL,LLLLD...     eHO140   \n",
       "577  NGGDAALALLLLDRLNQLE,QASSRSSSRSRNSSRNSTP,RSRNSS...     eAV100   \n",
       "578  NGGDAALALLLLDRLNQLE,QASSRSSSRSRNSSRNSTP,RSRNSS...     eNL187   \n",
       "\n",
       "    Start Index in Genome End Index in Genome                 ORF Coverage  \\\n",
       "534                 28916               28963  nucleocapsid phosphoprotein   \n",
       "535                 28916               28963  nucleocapsid phosphoprotein   \n",
       "536                 28916               28963  nucleocapsid phosphoprotein   \n",
       "577                 28814               28966  nucleocapsid phosphoprotein   \n",
       "578                 28814               28966  nucleocapsid phosphoprotein   \n",
       "\n",
       "             cdr3b                 V           J MHC  \n",
       "534   CASSQGNYGYTF        TCRBV14-01  TCRBJ01-02   I  \n",
       "535   CASSQGNYGYTF  TCRBV03-01/03-02  TCRBJ01-02   I  \n",
       "536    CASGLPYEQYF        TCRBV27-01  TCRBJ02-07   I  \n",
       "577  CASSPRSSYEQYF        TCRBV18-01  TCRBJ02-07  II  \n",
       "578  CASSLGTSYEQYF        TCRBV05-05  TCRBJ02-07  II  "
      ]
     },
     "execution_count": 27,
     "metadata": {},
     "output_type": "execute_result"
    }
   ],
   "source": [
    "M1_Common[M1_Common['epitope'].str.contains('LLLDRLNQL') == True]"
   ]
  },
  {
   "cell_type": "code",
   "execution_count": 31,
   "id": "fce865da",
   "metadata": {},
   "outputs": [
    {
     "data": {
      "text/plain": [
       "5"
      ]
     },
     "execution_count": 31,
     "metadata": {},
     "output_type": "execute_result"
    }
   ],
   "source": [
    "M1_Common[M1_Common['epitope'].str.contains('LLLDRLNQL') == True].shape[0]"
   ]
  },
  {
   "cell_type": "code",
   "execution_count": 41,
   "id": "f3e98a6b",
   "metadata": {},
   "outputs": [],
   "source": [
    "def search_TSCAN(Common_data,TSCAN_epitope):\n",
    "    table = np.zeros((len(TSCAN_epitope),1),dtype = int)\n",
    "    for index,epitope in enumerate(TSCAN_epitope):\n",
    "        table[index][0] = Common_data[Common_data['epitope'].str.contains(epitope) == True].shape[0]\n",
    "    return(table)"
   ]
  },
  {
   "cell_type": "code",
   "execution_count": 43,
   "id": "23bced70",
   "metadata": {},
   "outputs": [
    {
     "data": {
      "text/html": [
       "<div>\n",
       "<style scoped>\n",
       "    .dataframe tbody tr th:only-of-type {\n",
       "        vertical-align: middle;\n",
       "    }\n",
       "\n",
       "    .dataframe tbody tr th {\n",
       "        vertical-align: top;\n",
       "    }\n",
       "\n",
       "    .dataframe thead th {\n",
       "        text-align: right;\n",
       "    }\n",
       "</style>\n",
       "<table border=\"1\" class=\"dataframe\">\n",
       "  <thead>\n",
       "    <tr style=\"text-align: right;\">\n",
       "      <th></th>\n",
       "      <th>Frequency</th>\n",
       "    </tr>\n",
       "  </thead>\n",
       "  <tbody>\n",
       "    <tr>\n",
       "      <th>LLLDRLNQL</th>\n",
       "      <td>5</td>\n",
       "    </tr>\n",
       "    <tr>\n",
       "      <th>YLQPRTFLL</th>\n",
       "      <td>0</td>\n",
       "    </tr>\n",
       "    <tr>\n",
       "      <th>KLWAQCVQL</th>\n",
       "      <td>0</td>\n",
       "    </tr>\n",
       "    <tr>\n",
       "      <th>ALWEIQQVV</th>\n",
       "      <td>0</td>\n",
       "    </tr>\n",
       "  </tbody>\n",
       "</table>\n",
       "</div>"
      ],
      "text/plain": [
       "           Frequency\n",
       "LLLDRLNQL          5\n",
       "YLQPRTFLL          0\n",
       "KLWAQCVQL          0\n",
       "ALWEIQQVV          0"
      ]
     },
     "execution_count": 43,
     "metadata": {},
     "output_type": "execute_result"
    }
   ],
   "source": [
    "pd.DataFrame(search_TSCAN(M1_Common,TSCAN_epitope),columns = ['Frequency'],index = TSCAN_epitope)"
   ]
  },
  {
   "cell_type": "markdown",
   "id": "6fb16150",
   "metadata": {},
   "source": [
    "## Cross Reference with CMV"
   ]
  },
  {
   "cell_type": "markdown",
   "id": "c8c58089",
   "metadata": {},
   "source": [
    "### Read CMV data\n",
    "In this CMV dataset, epiotpe is only NLVPMVATV. All cdrs are from HomoSapiens (human).\n",
    "All are HLA-A02 cdrs. All are MHC class I.\n",
    "format is ['Gene', 'cdr3', 'V', 'J']"
   ]
  },
  {
   "cell_type": "code",
   "execution_count": 45,
   "id": "f728d62e",
   "metadata": {},
   "outputs": [],
   "source": [
    "CMV_data_folder = Path('./Data')\n",
    "CMV_pathlib = CMV_data_folder / 'VDJdb_CMV_TCR.tsv'\n",
    "CMV_raw = read_data_VDJdb(str(CMV_pathlib))\n",
    "CMV_raw = CMV_raw.drop_duplicates(ignore_index=True)\n",
    "# Rearrange CMV_data\n",
    "CMV_data = CMV_raw.loc[CMV_raw['Gene'] == 'TRB']\n",
    "CMV_data = CMV_data.rename(columns={'cdr3': 'cdr3b'})\n",
    "CMV_cdr3b = CMV_data[['cdr3b']]\n",
    "CMV_cdr3b = CMV_cdr3b.drop_duplicates(ignore_index=True)"
   ]
  },
  {
   "cell_type": "code",
   "execution_count": 48,
   "id": "004c0469",
   "metadata": {},
   "outputs": [
    {
     "data": {
      "text/plain": [
       "(4421, 1)"
      ]
     },
     "execution_count": 48,
     "metadata": {},
     "output_type": "execute_result"
    }
   ],
   "source": [
    "CMV_cdr3b.shape #4421 entries"
   ]
  },
  {
   "cell_type": "markdown",
   "id": "455b93fa",
   "metadata": {},
   "source": [
    "### Find shared CDR3b of CMV with COVID-19"
   ]
  },
  {
   "cell_type": "code",
   "execution_count": 50,
   "id": "902d4bd2",
   "metadata": {},
   "outputs": [],
   "source": [
    "CMV_Common = pd.DataFrame(columns=data_all.columns.values.tolist())\n",
    "for index, row in MIRA_data.iterrows():\n",
    "    if row['cdr3b'] in CMV_cdr3b['cdr3b'].values:\n",
    "        CMV_Common = CMV_Common.append(row, ignore_index=True)"
   ]
  },
  {
   "cell_type": "code",
   "execution_count": 52,
   "id": "2c09259f",
   "metadata": {},
   "outputs": [
    {
     "data": {
      "text/plain": [
       "274"
      ]
     },
     "execution_count": 52,
     "metadata": {},
     "output_type": "execute_result"
    }
   ],
   "source": [
    "len(pd.unique(CMV_Common['cdr3b']))"
   ]
  },
  {
   "cell_type": "markdown",
   "id": "d05d853c",
   "metadata": {},
   "source": [
    "### Write to file"
   ]
  },
  {
   "cell_type": "code",
   "execution_count": 57,
   "id": "cbd474c3",
   "metadata": {},
   "outputs": [],
   "source": [
    "CMV_Common.to_csv(str(MIRA_data_folder / \"Output/CMV_Common.csv\"), index=False)"
   ]
  },
  {
   "cell_type": "markdown",
   "id": "960ed350",
   "metadata": {},
   "source": [
    "### Appearance of TSCAN epitopes in shared CDR3b binding targets"
   ]
  },
  {
   "cell_type": "code",
   "execution_count": 59,
   "id": "f6e06406",
   "metadata": {},
   "outputs": [
    {
     "data": {
      "text/html": [
       "<div>\n",
       "<style scoped>\n",
       "    .dataframe tbody tr th:only-of-type {\n",
       "        vertical-align: middle;\n",
       "    }\n",
       "\n",
       "    .dataframe tbody tr th {\n",
       "        vertical-align: top;\n",
       "    }\n",
       "\n",
       "    .dataframe thead th {\n",
       "        text-align: right;\n",
       "    }\n",
       "</style>\n",
       "<table border=\"1\" class=\"dataframe\">\n",
       "  <thead>\n",
       "    <tr style=\"text-align: right;\">\n",
       "      <th></th>\n",
       "      <th>Frequency</th>\n",
       "    </tr>\n",
       "  </thead>\n",
       "  <tbody>\n",
       "    <tr>\n",
       "      <th>LLLDRLNQL</th>\n",
       "      <td>1</td>\n",
       "    </tr>\n",
       "    <tr>\n",
       "      <th>YLQPRTFLL</th>\n",
       "      <td>3</td>\n",
       "    </tr>\n",
       "    <tr>\n",
       "      <th>KLWAQCVQL</th>\n",
       "      <td>0</td>\n",
       "    </tr>\n",
       "    <tr>\n",
       "      <th>ALWEIQQVV</th>\n",
       "      <td>0</td>\n",
       "    </tr>\n",
       "  </tbody>\n",
       "</table>\n",
       "</div>"
      ],
      "text/plain": [
       "           Frequency\n",
       "LLLDRLNQL          1\n",
       "YLQPRTFLL          3\n",
       "KLWAQCVQL          0\n",
       "ALWEIQQVV          0"
      ]
     },
     "execution_count": 59,
     "metadata": {},
     "output_type": "execute_result"
    }
   ],
   "source": [
    "pd.DataFrame(search_TSCAN(CMV_Common,TSCAN_epitope),columns = ['Frequency'],index = TSCAN_epitope)"
   ]
  },
  {
   "cell_type": "markdown",
   "id": "c2191f41",
   "metadata": {},
   "source": [
    "## Cross Reference with MART-1"
   ]
  },
  {
   "cell_type": "markdown",
   "id": "726a6677",
   "metadata": {},
   "source": [
    "### Read MART-1 data"
   ]
  },
  {
   "cell_type": "markdown",
   "id": "258f25ec",
   "metadata": {},
   "source": [
    "In this MART1 dataset, epiotpe is only ELAGIGILTV. All cdrs are from HomoSapiens (human).\n",
    "All are HLA-A02 cdrs. All are MHC class I.\n",
    "format is ['Gene', 'cdr3', 'V', 'J']"
   ]
  },
  {
   "cell_type": "code",
   "execution_count": 60,
   "id": "ce49997e",
   "metadata": {},
   "outputs": [],
   "source": [
    "MART1_data_folder = Path('./Data')\n",
    "MART1_pathlib = MART1_data_folder / 'VDJdb_MART1_TCR.tsv'\n",
    "MART1_raw = read_data_VDJdb(str(MART1_pathlib))\n",
    "MART1_raw = MART1_raw.drop_duplicates(ignore_index=True)\n",
    "# Rearrange MART1_data\n",
    "MART1_data = MART1_raw.loc[MART1_raw['Gene'] == 'TRB']\n",
    "MART1_data = MART1_data.rename(columns={'cdr3': 'cdr3b'})\n",
    "MART1_cdr3b = MART1_data[['cdr3b']]\n",
    "MART1_cdr3b = MART1_cdr3b.drop_duplicates(ignore_index=True)"
   ]
  },
  {
   "cell_type": "code",
   "execution_count": 61,
   "id": "bd1c28f6",
   "metadata": {},
   "outputs": [
    {
     "data": {
      "text/plain": [
       "(1409, 1)"
      ]
     },
     "execution_count": 61,
     "metadata": {},
     "output_type": "execute_result"
    }
   ],
   "source": [
    "MART1_cdr3b.shape"
   ]
  },
  {
   "cell_type": "markdown",
   "id": "8e6d346f",
   "metadata": {},
   "source": [
    "### Find shared CDR3b of MART1 with COVID-19"
   ]
  },
  {
   "cell_type": "code",
   "execution_count": 62,
   "id": "42f628e9",
   "metadata": {},
   "outputs": [],
   "source": [
    "MART1_Common = pd.DataFrame(columns=data_all.columns.values.tolist())\n",
    "for index, row in MIRA_data.iterrows():\n",
    "    if row['cdr3b'] in MART1_cdr3b['cdr3b'].values:\n",
    "        MART1_Common = MART1_Common.append(row, ignore_index=True)"
   ]
  },
  {
   "cell_type": "code",
   "execution_count": 63,
   "id": "32a9e44c",
   "metadata": {},
   "outputs": [
    {
     "data": {
      "text/plain": [
       "89"
      ]
     },
     "execution_count": 63,
     "metadata": {},
     "output_type": "execute_result"
    }
   ],
   "source": [
    "len(pd.unique(MART1_Common['cdr3b']))"
   ]
  },
  {
   "cell_type": "markdown",
   "id": "c831e52f",
   "metadata": {},
   "source": [
    "### Write to file"
   ]
  },
  {
   "cell_type": "code",
   "execution_count": 64,
   "id": "1882ffc5",
   "metadata": {},
   "outputs": [],
   "source": [
    "MART1_Common.to_csv(str(MIRA_data_folder / \"Output/MART1_Common.csv\"), index=False)"
   ]
  },
  {
   "cell_type": "markdown",
   "id": "63bc140f",
   "metadata": {},
   "source": [
    "### Appearance of TSCAN epitopes in shared CDR3b binding targets"
   ]
  },
  {
   "cell_type": "code",
   "execution_count": 66,
   "id": "5110174d",
   "metadata": {},
   "outputs": [
    {
     "data": {
      "text/html": [
       "<div>\n",
       "<style scoped>\n",
       "    .dataframe tbody tr th:only-of-type {\n",
       "        vertical-align: middle;\n",
       "    }\n",
       "\n",
       "    .dataframe tbody tr th {\n",
       "        vertical-align: top;\n",
       "    }\n",
       "\n",
       "    .dataframe thead th {\n",
       "        text-align: right;\n",
       "    }\n",
       "</style>\n",
       "<table border=\"1\" class=\"dataframe\">\n",
       "  <thead>\n",
       "    <tr style=\"text-align: right;\">\n",
       "      <th></th>\n",
       "      <th>Frequency</th>\n",
       "    </tr>\n",
       "  </thead>\n",
       "  <tbody>\n",
       "    <tr>\n",
       "      <th>LLLDRLNQL</th>\n",
       "      <td>1</td>\n",
       "    </tr>\n",
       "    <tr>\n",
       "      <th>YLQPRTFLL</th>\n",
       "      <td>1</td>\n",
       "    </tr>\n",
       "    <tr>\n",
       "      <th>KLWAQCVQL</th>\n",
       "      <td>0</td>\n",
       "    </tr>\n",
       "    <tr>\n",
       "      <th>ALWEIQQVV</th>\n",
       "      <td>0</td>\n",
       "    </tr>\n",
       "  </tbody>\n",
       "</table>\n",
       "</div>"
      ],
      "text/plain": [
       "           Frequency\n",
       "LLLDRLNQL          1\n",
       "YLQPRTFLL          1\n",
       "KLWAQCVQL          0\n",
       "ALWEIQQVV          0"
      ]
     },
     "execution_count": 66,
     "metadata": {},
     "output_type": "execute_result"
    }
   ],
   "source": [
    "pd.DataFrame(search_TSCAN(MART1_Common,TSCAN_epitope),columns = ['Frequency'],index = TSCAN_epitope)"
   ]
  }
 ],
 "metadata": {
  "kernelspec": {
   "display_name": "Python 3",
   "language": "python",
   "name": "python3"
  },
  "language_info": {
   "codemirror_mode": {
    "name": "ipython",
    "version": 3
   },
   "file_extension": ".py",
   "mimetype": "text/x-python",
   "name": "python",
   "nbconvert_exporter": "python",
   "pygments_lexer": "ipython3",
   "version": "3.8.8"
  }
 },
 "nbformat": 4,
 "nbformat_minor": 5
}
