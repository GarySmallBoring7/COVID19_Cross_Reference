{
 "cells": [
  {
   "cell_type": "markdown",
   "id": "4daaae8e",
   "metadata": {},
   "source": [
    "# COVID Cross Reference\n",
    "Find cross-reactive (same) TCR sequences for ImmuneCODE(MIRA) database (SARS-CoV2) and other viruses in VDJdb:\n",
    "<ul>\n",
    "    <li>M1: GILGFVFTL</li>\n",
    "    <li>CMV(pp65): NLVPMVATV </li>\n",
    "    <li>MART-1: ELAGIGILTV </li>\n",
    "</ul>\n",
    "\n",
    "SARS-CoV2 epitopes are from TSCAN (their gene region and occurrences in ImmuneCODE):\n",
    "\n",
    "|Epitope|Gene Region|Occurrences|\n",
    "|-----|-------|------|\n",
    "|KLWAQCVQL|ORF1ab|741|\n",
    "|YLQPRTFLL|S|1138|\n",
    "|ALWEIQQVV|ORF1ab|5|\n",
    "|LLLDRLNQL|N|1028|\n",
    "|LLYDANYFL|ORF3a|1049|\n",
    "\n",
    "To run the following codes, download ImmuneCODE MIRA data into the Data folder from https://clients.adaptivebiotech.com/pub/covid-2020 : 'peptide-detail-ci.csv' and 'peptide-detail-cii.csv'"
   ]
  },
  {
   "cell_type": "markdown",
   "id": "04eedce7",
   "metadata": {},
   "source": [
    "## Define functions and constants"
   ]
  },
  {
   "cell_type": "code",
   "execution_count": 1,
   "id": "4aa46972",
   "metadata": {},
   "outputs": [],
   "source": [
    "import numpy as np\n",
    "import pandas as pd\n",
    "import scipy.sparse\n",
    "import seaborn as sns\n",
    "import matplotlib.pyplot as plt\n",
    "from pathlib import Path\n",
    "from scipy import sparse\n",
    "import warnings\n",
    "import time\n",
    "import plotly\n",
    "\n",
    "# Functions for data\n",
    "def _read_raw_data(file_path):\n",
    "    file_type = file_path[-3:]\n",
    "    assert file_type == 'csv' or file_type == 'tsv', \"The input file must be csv or tsv file.\"\n",
    "    if file_type == 'csv':\n",
    "        df = pd.read_csv(file_path)\n",
    "    else:\n",
    "        df = pd.read_csv(file_path, sep='\\t')\n",
    "    return df\n",
    "\n",
    "def read_data(file_path):\n",
    "    raw_data_df = _read_raw_data(file_path)\n",
    "    raw_data_columns = raw_data_df.columns.values.tolist()\n",
    "    assert 'epitope' in raw_data_columns and 'cdr3b' in raw_data_columns, \"Columns 'Epitope' and 'CDR3' must in the input file.\"\n",
    "    data_df = pd.DataFrame(raw_data_df[['epitope', 'cdr3b']])\n",
    "    return data_df\n",
    "\n",
    "\n",
    "def read_data_MIRA(file_path):\n",
    "    raw_data_df = _read_raw_data(file_path)\n",
    "    raw_data_columns = raw_data_df.columns.values.tolist()\n",
    "    assert 'TCR BioIdentity' in raw_data_columns and 'Amino Acids' in raw_data_columns, \"Columns 'Epitope' and 'CDR3' must in the input file.\"\n",
    "    data_df = pd.DataFrame(\n",
    "        raw_data_df[['TCR BioIdentity', 'Amino Acids', 'Experiment', 'Start Index in Genome', 'End Index in Genome',\n",
    "                     'ORF Coverage']])\n",
    "    return data_df\n",
    "\n",
    "\n",
    "def read_data_Metadata(file_path):\n",
    "    raw_data_df = _read_raw_data(file_path)\n",
    "    raw_data_columns = raw_data_df.columns.values.tolist()\n",
    "    assert 'Experiment' in raw_data_columns and 'HLA-A-1' in raw_data_columns and 'HLA-A-2' in raw_data_columns, \\\n",
    "        \"Columns 'Experiment' , 'HLA-A-1' and 'HLA-A-2' must in the input file.\"\n",
    "    data_df = pd.DataFrame(\n",
    "        raw_data_df[['Experiment', 'HLA-A-2', 'HLA-A-2']])\n",
    "    return data_df\n",
    "\n",
    "\n",
    "def read_data_VDJdb(file_path):\n",
    "    raw_data_df = _read_raw_data(file_path)\n",
    "    raw_data_columns = raw_data_df.columns.values.tolist()\n",
    "    assert 'Gene' in raw_data_columns and 'CDR3' in raw_data_columns, \\\n",
    "        \"Gene' and 'CDR3' must in the input file.\"\n",
    "    data_df = pd.DataFrame(\n",
    "        raw_data_df[['Gene', 'CDR3', 'V', 'J']])\n",
    "    data_df = data_df.rename(columns={'CDR3': 'cdr3'})\n",
    "    return data_df\n",
    "\n",
    "\n",
    "def arrange_MIRA(data_df):\n",
    "    data_df[['cdr3b', 'V', 'J']] = data_df['TCR BioIdentity'].str.split('+', expand=True)\n",
    "    data_df = data_df.drop(columns=[\"TCR BioIdentity\"])\n",
    "    data_df = data_df.rename(columns={'Amino Acids': 'epitope'})\n",
    "    return data_df\n",
    "\n",
    "def get_cdrDict(df):\n",
    "    cdrDict = {}  # {cdr3b: epitope list}\n",
    "    for index, row in df.iterrows():\n",
    "        if row['cdr3b'] not in cdrDict:\n",
    "            cdrDict[row['cdr3b']] = []\n",
    "        epiList = row['epitope'].split(sep=',')\n",
    "        for epi in epiList:\n",
    "            if epi not in cdrDict[row['cdr3b']]:\n",
    "                cdrDict[row['cdr3b']].append(epi)\n",
    "    return cdrDict\n",
    "\n",
    "TSCAN_epitope = ['LLLDRLNQL','YLQPRTFLL','KLWAQCVQL','ALWEIQQVV','LLYDANYFL']"
   ]
  },
  {
   "cell_type": "markdown",
   "id": "c27f1ed4",
   "metadata": {},
   "source": [
    "## Read MIRA data"
   ]
  },
  {
   "cell_type": "markdown",
   "id": "12e820a6",
   "metadata": {},
   "source": [
    "### Rearrangments and removal of duplicates"
   ]
  },
  {
   "cell_type": "markdown",
   "id": "2166cb66",
   "metadata": {},
   "source": [
    " Format is ['epitope', 'Experiment', 'Start Index in Genome', 'End Index in Genome', 'cdr3b', 'V', 'J']"
   ]
  },
  {
   "cell_type": "code",
   "execution_count": 2,
   "id": "b48f20ca",
   "metadata": {},
   "outputs": [],
   "source": [
    "MIRA_data_folder = Path('./Data')\n",
    "MIRA_pathlib_ci = MIRA_data_folder / 'peptide-detail-ci.csv'\n",
    "MIRA_path_ci = str(MIRA_pathlib_ci)\n",
    "MIRA_pathlib_cii = MIRA_data_folder / 'peptide-detail-cii.csv'\n",
    "MIRA_path_cii = str(MIRA_pathlib_cii)\n",
    "# Read and arrange data\n",
    "data_raw_ci = read_data_MIRA(MIRA_path_ci)\n",
    "data_raw_cii = read_data_MIRA(MIRA_path_cii)\n",
    "data_ci = arrange_MIRA(data_raw_ci)\n",
    "data_cii = arrange_MIRA(data_raw_cii)"
   ]
  },
  {
   "cell_type": "code",
   "execution_count": 3,
   "id": "6b7fedfd",
   "metadata": {},
   "outputs": [],
   "source": [
    "# Drop Duplicates\n",
    "data_ci = data_ci.drop_duplicates(ignore_index=True)\n",
    "data_cii = data_cii.drop_duplicates(ignore_index=True)  \n",
    "data_ci['MHC'] = 'I'\n",
    "data_cii['MHC'] = 'II'\n",
    "# Combine raw data and drop duplicates\n",
    "data_all_raw = pd.concat([data_ci, data_cii], ignore_index=True)\n",
    "MIRA_data = data_all_raw.drop_duplicates(ignore_index=True)"
   ]
  },
  {
   "cell_type": "markdown",
   "id": "967e5044",
   "metadata": {},
   "source": [
    "### View the table format"
   ]
  },
  {
   "cell_type": "code",
   "execution_count": 4,
   "id": "f9538708",
   "metadata": {},
   "outputs": [
    {
     "data": {
      "text/plain": [
       "(156522, 9)"
      ]
     },
     "execution_count": 4,
     "metadata": {},
     "output_type": "execute_result"
    }
   ],
   "source": [
    "MIRA_data.shape"
   ]
  },
  {
   "cell_type": "code",
   "execution_count": 5,
   "id": "5e2f4883",
   "metadata": {},
   "outputs": [
    {
     "data": {
      "text/html": [
       "<div>\n",
       "<style scoped>\n",
       "    .dataframe tbody tr th:only-of-type {\n",
       "        vertical-align: middle;\n",
       "    }\n",
       "\n",
       "    .dataframe tbody tr th {\n",
       "        vertical-align: top;\n",
       "    }\n",
       "\n",
       "    .dataframe thead th {\n",
       "        text-align: right;\n",
       "    }\n",
       "</style>\n",
       "<table border=\"1\" class=\"dataframe\">\n",
       "  <thead>\n",
       "    <tr style=\"text-align: right;\">\n",
       "      <th></th>\n",
       "      <th>epitope</th>\n",
       "      <th>Experiment</th>\n",
       "      <th>Start Index in Genome</th>\n",
       "      <th>End Index in Genome</th>\n",
       "      <th>ORF Coverage</th>\n",
       "      <th>cdr3b</th>\n",
       "      <th>V</th>\n",
       "      <th>J</th>\n",
       "      <th>MHC</th>\n",
       "    </tr>\n",
       "  </thead>\n",
       "  <tbody>\n",
       "    <tr>\n",
       "      <th>0</th>\n",
       "      <td>ADAGFIKQY,AELEGIQY,LADAGFIKQY,TLADAGFIK</td>\n",
       "      <td>eAV93</td>\n",
       "      <td>533</td>\n",
       "      <td>24073</td>\n",
       "      <td>ORF1ab,surface glycoprotein</td>\n",
       "      <td>CASSAQGTGDRGYTF</td>\n",
       "      <td>TCRBV27-01</td>\n",
       "      <td>TCRBJ01-02</td>\n",
       "      <td>I</td>\n",
       "    </tr>\n",
       "    <tr>\n",
       "      <th>1</th>\n",
       "      <td>ADAGFIKQY,AELEGIQY,LADAGFIKQY,TLADAGFIK</td>\n",
       "      <td>eOX56</td>\n",
       "      <td>533</td>\n",
       "      <td>24073</td>\n",
       "      <td>ORF1ab,surface glycoprotein</td>\n",
       "      <td>CASSLVATGNTGELFF</td>\n",
       "      <td>TCRBV07-09</td>\n",
       "      <td>TCRBJ02-02</td>\n",
       "      <td>I</td>\n",
       "    </tr>\n",
       "    <tr>\n",
       "      <th>2</th>\n",
       "      <td>ADAGFIKQY,AELEGIQY,LADAGFIKQY,TLADAGFIK</td>\n",
       "      <td>eAV93</td>\n",
       "      <td>533</td>\n",
       "      <td>24073</td>\n",
       "      <td>ORF1ab,surface glycoprotein</td>\n",
       "      <td>CASSKGTVSGLSG</td>\n",
       "      <td>TCRBV21-01</td>\n",
       "      <td>TCRBJ02-07</td>\n",
       "      <td>I</td>\n",
       "    </tr>\n",
       "    <tr>\n",
       "      <th>3</th>\n",
       "      <td>ADAGFIKQY,AELEGIQY,LADAGFIKQY,TLADAGFIK</td>\n",
       "      <td>eQD124</td>\n",
       "      <td>533</td>\n",
       "      <td>24073</td>\n",
       "      <td>ORF1ab,surface glycoprotein</td>\n",
       "      <td>CALKVGADTQYF</td>\n",
       "      <td>TCRBV30-01</td>\n",
       "      <td>TCRBJ02-03</td>\n",
       "      <td>I</td>\n",
       "    </tr>\n",
       "    <tr>\n",
       "      <th>4</th>\n",
       "      <td>ADAGFIKQY,AELEGIQY,LADAGFIKQY,TLADAGFIK</td>\n",
       "      <td>eAV93</td>\n",
       "      <td>533</td>\n",
       "      <td>24073</td>\n",
       "      <td>ORF1ab,surface glycoprotein</td>\n",
       "      <td>CASSLWASGRGGTGELFF</td>\n",
       "      <td>TCRBV27-01</td>\n",
       "      <td>TCRBJ02-02</td>\n",
       "      <td>I</td>\n",
       "    </tr>\n",
       "  </tbody>\n",
       "</table>\n",
       "</div>"
      ],
      "text/plain": [
       "                                   epitope Experiment  Start Index in Genome  \\\n",
       "0  ADAGFIKQY,AELEGIQY,LADAGFIKQY,TLADAGFIK      eAV93                    533   \n",
       "1  ADAGFIKQY,AELEGIQY,LADAGFIKQY,TLADAGFIK      eOX56                    533   \n",
       "2  ADAGFIKQY,AELEGIQY,LADAGFIKQY,TLADAGFIK      eAV93                    533   \n",
       "3  ADAGFIKQY,AELEGIQY,LADAGFIKQY,TLADAGFIK     eQD124                    533   \n",
       "4  ADAGFIKQY,AELEGIQY,LADAGFIKQY,TLADAGFIK      eAV93                    533   \n",
       "\n",
       "   End Index in Genome                 ORF Coverage               cdr3b  \\\n",
       "0                24073  ORF1ab,surface glycoprotein     CASSAQGTGDRGYTF   \n",
       "1                24073  ORF1ab,surface glycoprotein    CASSLVATGNTGELFF   \n",
       "2                24073  ORF1ab,surface glycoprotein       CASSKGTVSGLSG   \n",
       "3                24073  ORF1ab,surface glycoprotein        CALKVGADTQYF   \n",
       "4                24073  ORF1ab,surface glycoprotein  CASSLWASGRGGTGELFF   \n",
       "\n",
       "            V           J MHC  \n",
       "0  TCRBV27-01  TCRBJ01-02   I  \n",
       "1  TCRBV07-09  TCRBJ02-02   I  \n",
       "2  TCRBV21-01  TCRBJ02-07   I  \n",
       "3  TCRBV30-01  TCRBJ02-03   I  \n",
       "4  TCRBV27-01  TCRBJ02-02   I  "
      ]
     },
     "execution_count": 5,
     "metadata": {},
     "output_type": "execute_result"
    }
   ],
   "source": [
    "MIRA_data.head(5)"
   ]
  },
  {
   "cell_type": "markdown",
   "id": "f1f4690b",
   "metadata": {},
   "source": [
    "## Cross Reference with M1\n",
    "### Read M1 data"
   ]
  },
  {
   "cell_type": "markdown",
   "id": "0e3771e6",
   "metadata": {},
   "source": [
    "In this dataset, the M1 epitope is GILGFVFTL. All cdrs are from HomoSapiens (human).\n",
    "All are HLA-A02 cdrs. All are MHC class I.\n",
    "The format is ['Gene', 'cdr3', 'V', 'J']"
   ]
  },
  {
   "cell_type": "code",
   "execution_count": 6,
   "id": "9f032ab1",
   "metadata": {},
   "outputs": [],
   "source": [
    "M1_data_folder = Path('./Data')\n",
    "M1_pathlib = M1_data_folder / 'VDJdb_M1_TCR.tsv'\n",
    "M1_raw = read_data_VDJdb(str(M1_pathlib))\n",
    "M1_raw = M1_raw.drop_duplicates(ignore_index=True)\n",
    "# Rearrange M1_data\n",
    "M1_data = M1_raw.loc[M1_raw['Gene'] == 'TRB'] \n",
    "M1_data = M1_data.rename(columns={'cdr3': 'cdr3b'})\n",
    "M1_cdr3b = M1_data[['cdr3b']]\n",
    "M1_cdr3b = M1_cdr3b.drop_duplicates(ignore_index=True) "
   ]
  },
  {
   "cell_type": "code",
   "execution_count": 7,
   "id": "cbc609a3",
   "metadata": {},
   "outputs": [
    {
     "data": {
      "text/plain": [
       "(3407, 1)"
      ]
     },
     "execution_count": 7,
     "metadata": {},
     "output_type": "execute_result"
    }
   ],
   "source": [
    "M1_cdr3b.shape"
   ]
  },
  {
   "cell_type": "code",
   "execution_count": 8,
   "id": "5c22b36e",
   "metadata": {},
   "outputs": [
    {
     "data": {
      "text/html": [
       "<div>\n",
       "<style scoped>\n",
       "    .dataframe tbody tr th:only-of-type {\n",
       "        vertical-align: middle;\n",
       "    }\n",
       "\n",
       "    .dataframe tbody tr th {\n",
       "        vertical-align: top;\n",
       "    }\n",
       "\n",
       "    .dataframe thead th {\n",
       "        text-align: right;\n",
       "    }\n",
       "</style>\n",
       "<table border=\"1\" class=\"dataframe\">\n",
       "  <thead>\n",
       "    <tr style=\"text-align: right;\">\n",
       "      <th></th>\n",
       "      <th>cdr3b</th>\n",
       "    </tr>\n",
       "  </thead>\n",
       "  <tbody>\n",
       "    <tr>\n",
       "      <th>0</th>\n",
       "      <td>CASSSRSSYEQYF</td>\n",
       "    </tr>\n",
       "    <tr>\n",
       "      <th>1</th>\n",
       "      <td>CASSSRASYEQYF</td>\n",
       "    </tr>\n",
       "    <tr>\n",
       "      <th>2</th>\n",
       "      <td>CASSTRGAYEQYF</td>\n",
       "    </tr>\n",
       "    <tr>\n",
       "      <th>3</th>\n",
       "      <td>CASSSRSAYEQYF</td>\n",
       "    </tr>\n",
       "    <tr>\n",
       "      <th>4</th>\n",
       "      <td>CSVLQGSPYEQYF</td>\n",
       "    </tr>\n",
       "  </tbody>\n",
       "</table>\n",
       "</div>"
      ],
      "text/plain": [
       "           cdr3b\n",
       "0  CASSSRSSYEQYF\n",
       "1  CASSSRASYEQYF\n",
       "2  CASSTRGAYEQYF\n",
       "3  CASSSRSAYEQYF\n",
       "4  CSVLQGSPYEQYF"
      ]
     },
     "execution_count": 8,
     "metadata": {},
     "output_type": "execute_result"
    }
   ],
   "source": [
    "M1_cdr3b.head(5)"
   ]
  },
  {
   "cell_type": "markdown",
   "id": "e9a3d130",
   "metadata": {},
   "source": [
    "### Find shared CDR3b of M1 with COVID-19"
   ]
  },
  {
   "cell_type": "markdown",
   "id": "f5731047",
   "metadata": {},
   "source": [
    "This will extract entries with same cdr3b from MIRA dataset "
   ]
  },
  {
   "cell_type": "code",
   "execution_count": 9,
   "id": "8eb43d92",
   "metadata": {},
   "outputs": [],
   "source": [
    "M1_Common = pd.DataFrame(columns=MIRA_data.columns.values.tolist())\n",
    "for index, row in MIRA_data.iterrows():\n",
    "    if row['cdr3b'] in M1_cdr3b['cdr3b'].values:\n",
    "        M1_Common = M1_Common.append(row, ignore_index=True)"
   ]
  },
  {
   "cell_type": "code",
   "execution_count": 10,
   "id": "200c87d4",
   "metadata": {},
   "outputs": [
    {
     "data": {
      "text/plain": [
       "276"
      ]
     },
     "execution_count": 10,
     "metadata": {},
     "output_type": "execute_result"
    }
   ],
   "source": [
    "len(pd.unique(M1_Common['cdr3b']))"
   ]
  },
  {
   "cell_type": "code",
   "execution_count": 11,
   "id": "43f27b06",
   "metadata": {},
   "outputs": [
    {
     "data": {
      "text/html": [
       "<div>\n",
       "<style scoped>\n",
       "    .dataframe tbody tr th:only-of-type {\n",
       "        vertical-align: middle;\n",
       "    }\n",
       "\n",
       "    .dataframe tbody tr th {\n",
       "        vertical-align: top;\n",
       "    }\n",
       "\n",
       "    .dataframe thead th {\n",
       "        text-align: right;\n",
       "    }\n",
       "</style>\n",
       "<table border=\"1\" class=\"dataframe\">\n",
       "  <thead>\n",
       "    <tr style=\"text-align: right;\">\n",
       "      <th></th>\n",
       "      <th>epitope</th>\n",
       "      <th>Experiment</th>\n",
       "      <th>Start Index in Genome</th>\n",
       "      <th>End Index in Genome</th>\n",
       "      <th>ORF Coverage</th>\n",
       "      <th>cdr3b</th>\n",
       "      <th>V</th>\n",
       "      <th>J</th>\n",
       "      <th>MHC</th>\n",
       "    </tr>\n",
       "  </thead>\n",
       "  <tbody>\n",
       "    <tr>\n",
       "      <th>0</th>\n",
       "      <td>APKEIIFL,KEIIFLEGETL</td>\n",
       "      <td>eEE226</td>\n",
       "      <td>2468</td>\n",
       "      <td>2506</td>\n",
       "      <td>ORF1ab</td>\n",
       "      <td>CASSYTLNTEAFF</td>\n",
       "      <td>TCRBV27-01</td>\n",
       "      <td>TCRBJ01-01</td>\n",
       "      <td>I</td>\n",
       "    </tr>\n",
       "    <tr>\n",
       "      <th>1</th>\n",
       "      <td>APKEIIFL,KEIIFLEGETL</td>\n",
       "      <td>eAV93</td>\n",
       "      <td>2468</td>\n",
       "      <td>2506</td>\n",
       "      <td>ORF1ab</td>\n",
       "      <td>CASSSGNTEAFF</td>\n",
       "      <td>TCRBV05-01</td>\n",
       "      <td>TCRBJ01-01</td>\n",
       "      <td>I</td>\n",
       "    </tr>\n",
       "    <tr>\n",
       "      <th>2</th>\n",
       "      <td>APKEIIFL,KEIIFLEGETL</td>\n",
       "      <td>eEE226</td>\n",
       "      <td>2468</td>\n",
       "      <td>2506</td>\n",
       "      <td>ORF1ab</td>\n",
       "      <td>CASGGTSTDTQYF</td>\n",
       "      <td>TCRBV12-05</td>\n",
       "      <td>TCRBJ02-03</td>\n",
       "      <td>I</td>\n",
       "    </tr>\n",
       "    <tr>\n",
       "      <th>3</th>\n",
       "      <td>APKEIIFL,KEIIFLEGETL</td>\n",
       "      <td>eXL30</td>\n",
       "      <td>2468</td>\n",
       "      <td>2506</td>\n",
       "      <td>ORF1ab</td>\n",
       "      <td>CASSHGAEAFF</td>\n",
       "      <td>TCRBV03-01/03-02</td>\n",
       "      <td>TCRBJ01-01</td>\n",
       "      <td>I</td>\n",
       "    </tr>\n",
       "    <tr>\n",
       "      <th>4</th>\n",
       "      <td>KPLEFGATSAAL</td>\n",
       "      <td>eOX52</td>\n",
       "      <td>3137</td>\n",
       "      <td>3172</td>\n",
       "      <td>ORF1ab</td>\n",
       "      <td>CASSIVSNQPQHF</td>\n",
       "      <td>TCRBV19-01</td>\n",
       "      <td>TCRBJ01-05</td>\n",
       "      <td>I</td>\n",
       "    </tr>\n",
       "  </tbody>\n",
       "</table>\n",
       "</div>"
      ],
      "text/plain": [
       "                epitope Experiment Start Index in Genome End Index in Genome  \\\n",
       "0  APKEIIFL,KEIIFLEGETL     eEE226                  2468                2506   \n",
       "1  APKEIIFL,KEIIFLEGETL      eAV93                  2468                2506   \n",
       "2  APKEIIFL,KEIIFLEGETL     eEE226                  2468                2506   \n",
       "3  APKEIIFL,KEIIFLEGETL      eXL30                  2468                2506   \n",
       "4          KPLEFGATSAAL      eOX52                  3137                3172   \n",
       "\n",
       "  ORF Coverage          cdr3b                 V           J MHC  \n",
       "0       ORF1ab  CASSYTLNTEAFF        TCRBV27-01  TCRBJ01-01   I  \n",
       "1       ORF1ab   CASSSGNTEAFF        TCRBV05-01  TCRBJ01-01   I  \n",
       "2       ORF1ab  CASGGTSTDTQYF        TCRBV12-05  TCRBJ02-03   I  \n",
       "3       ORF1ab    CASSHGAEAFF  TCRBV03-01/03-02  TCRBJ01-01   I  \n",
       "4       ORF1ab  CASSIVSNQPQHF        TCRBV19-01  TCRBJ01-05   I  "
      ]
     },
     "execution_count": 11,
     "metadata": {},
     "output_type": "execute_result"
    }
   ],
   "source": [
    "M1_Common.head(5)"
   ]
  },
  {
   "cell_type": "markdown",
   "id": "e3581dbe",
   "metadata": {},
   "source": [
    "We will also output a file with only epitope and cdr3b, which is used in the paper. Some cdr3b have multiple epitope records, so we concatenate the records with same cdr3b sequences."
   ]
  },
  {
   "cell_type": "code",
   "execution_count": 12,
   "id": "30cb4d02",
   "metadata": {},
   "outputs": [
    {
     "data": {
      "text/plain": [
       "(375, 2)"
      ]
     },
     "execution_count": 12,
     "metadata": {},
     "output_type": "execute_result"
    }
   ],
   "source": [
    "M1_Common_Trim = M1_Common[['epitope','cdr3b']].drop_duplicates(ignore_index = True)\n",
    "M1_Common_Trim.shape"
   ]
  },
  {
   "cell_type": "code",
   "execution_count": 13,
   "id": "ebb25acc",
   "metadata": {},
   "outputs": [
    {
     "data": {
      "text/plain": [
       "(276, 2)"
      ]
     },
     "execution_count": 13,
     "metadata": {},
     "output_type": "execute_result"
    }
   ],
   "source": [
    "M1_Common_Trim_dict = get_cdrDict(M1_Common_Trim)\n",
    "M1_Common_Trim_out = pd.DataFrame(M1_Common_Trim_dict.items(),columns = ['cdr3b','epitope'])\n",
    "M1_Common_Trim_out.shape"
   ]
  },
  {
   "cell_type": "code",
   "execution_count": 14,
   "id": "db1fda8c",
   "metadata": {},
   "outputs": [
    {
     "data": {
      "text/html": [
       "<div>\n",
       "<style scoped>\n",
       "    .dataframe tbody tr th:only-of-type {\n",
       "        vertical-align: middle;\n",
       "    }\n",
       "\n",
       "    .dataframe tbody tr th {\n",
       "        vertical-align: top;\n",
       "    }\n",
       "\n",
       "    .dataframe thead th {\n",
       "        text-align: right;\n",
       "    }\n",
       "</style>\n",
       "<table border=\"1\" class=\"dataframe\">\n",
       "  <thead>\n",
       "    <tr style=\"text-align: right;\">\n",
       "      <th></th>\n",
       "      <th>cdr3b</th>\n",
       "      <th>epitope</th>\n",
       "    </tr>\n",
       "  </thead>\n",
       "  <tbody>\n",
       "    <tr>\n",
       "      <th>0</th>\n",
       "      <td>CASSYTLNTEAFF</td>\n",
       "      <td>[APKEIIFL, KEIIFLEGETL, CTFEYVSQPF, EYVSQPFLM,...</td>\n",
       "    </tr>\n",
       "    <tr>\n",
       "      <th>1</th>\n",
       "      <td>CASSSGNTEAFF</td>\n",
       "      <td>[APKEIIFL, KEIIFLEGETL, GAEHVNNSY, IGAEHVNNSY,...</td>\n",
       "    </tr>\n",
       "    <tr>\n",
       "      <th>2</th>\n",
       "      <td>CASGGTSTDTQYF</td>\n",
       "      <td>[APKEIIFL, KEIIFLEGETL]</td>\n",
       "    </tr>\n",
       "    <tr>\n",
       "      <th>3</th>\n",
       "      <td>CASSHGAEAFF</td>\n",
       "      <td>[APKEIIFL, KEIIFLEGETL]</td>\n",
       "    </tr>\n",
       "    <tr>\n",
       "      <th>4</th>\n",
       "      <td>CASSIVSNQPQHF</td>\n",
       "      <td>[KPLEFGATSAAL]</td>\n",
       "    </tr>\n",
       "  </tbody>\n",
       "</table>\n",
       "</div>"
      ],
      "text/plain": [
       "           cdr3b                                            epitope\n",
       "0  CASSYTLNTEAFF  [APKEIIFL, KEIIFLEGETL, CTFEYVSQPF, EYVSQPFLM,...\n",
       "1   CASSSGNTEAFF  [APKEIIFL, KEIIFLEGETL, GAEHVNNSY, IGAEHVNNSY,...\n",
       "2  CASGGTSTDTQYF                            [APKEIIFL, KEIIFLEGETL]\n",
       "3    CASSHGAEAFF                            [APKEIIFL, KEIIFLEGETL]\n",
       "4  CASSIVSNQPQHF                                     [KPLEFGATSAAL]"
      ]
     },
     "execution_count": 14,
     "metadata": {},
     "output_type": "execute_result"
    }
   ],
   "source": [
    "M1_Common_Trim_out.head(5)"
   ]
  },
  {
   "cell_type": "markdown",
   "id": "301d3633",
   "metadata": {},
   "source": [
    "### Write to file"
   ]
  },
  {
   "cell_type": "code",
   "execution_count": 15,
   "id": "f6ee8e33",
   "metadata": {},
   "outputs": [],
   "source": [
    "M1_Common.to_csv(str(MIRA_data_folder / \"Output/M1_Common.csv\"), index=False)\n",
    "M1_Common_Trim_out.to_csv(str(MIRA_data_folder / \"Output/M1_Common_Trim.csv\"), index=False)"
   ]
  },
  {
   "cell_type": "markdown",
   "id": "a334b0bb",
   "metadata": {},
   "source": [
    "### Appearance of TSCAN epitopes in shared CDR3b binding targets"
   ]
  },
  {
   "cell_type": "code",
   "execution_count": 16,
   "id": "6c1858af",
   "metadata": {},
   "outputs": [
    {
     "data": {
      "text/html": [
       "<div>\n",
       "<style scoped>\n",
       "    .dataframe tbody tr th:only-of-type {\n",
       "        vertical-align: middle;\n",
       "    }\n",
       "\n",
       "    .dataframe tbody tr th {\n",
       "        vertical-align: top;\n",
       "    }\n",
       "\n",
       "    .dataframe thead th {\n",
       "        text-align: right;\n",
       "    }\n",
       "</style>\n",
       "<table border=\"1\" class=\"dataframe\">\n",
       "  <thead>\n",
       "    <tr style=\"text-align: right;\">\n",
       "      <th></th>\n",
       "      <th>epitope</th>\n",
       "      <th>Experiment</th>\n",
       "      <th>Start Index in Genome</th>\n",
       "      <th>End Index in Genome</th>\n",
       "      <th>ORF Coverage</th>\n",
       "      <th>cdr3b</th>\n",
       "      <th>V</th>\n",
       "      <th>J</th>\n",
       "      <th>MHC</th>\n",
       "    </tr>\n",
       "  </thead>\n",
       "  <tbody>\n",
       "    <tr>\n",
       "      <th>534</th>\n",
       "      <td>ALALLLLDR,GDAALALLLL,LALLLLDRL,LLLDRLNQL,LLLLD...</td>\n",
       "      <td>eHO136</td>\n",
       "      <td>28916</td>\n",
       "      <td>28963</td>\n",
       "      <td>nucleocapsid phosphoprotein</td>\n",
       "      <td>CASSQGNYGYTF</td>\n",
       "      <td>TCRBV14-01</td>\n",
       "      <td>TCRBJ01-02</td>\n",
       "      <td>I</td>\n",
       "    </tr>\n",
       "    <tr>\n",
       "      <th>535</th>\n",
       "      <td>ALALLLLDR,GDAALALLLL,LALLLLDRL,LLLDRLNQL,LLLLD...</td>\n",
       "      <td>eOX49</td>\n",
       "      <td>28916</td>\n",
       "      <td>28963</td>\n",
       "      <td>nucleocapsid phosphoprotein</td>\n",
       "      <td>CASSQGNYGYTF</td>\n",
       "      <td>TCRBV03-01/03-02</td>\n",
       "      <td>TCRBJ01-02</td>\n",
       "      <td>I</td>\n",
       "    </tr>\n",
       "    <tr>\n",
       "      <th>536</th>\n",
       "      <td>ALALLLLDR,GDAALALLLL,LALLLLDRL,LLLDRLNQL,LLLLD...</td>\n",
       "      <td>eHO140</td>\n",
       "      <td>28916</td>\n",
       "      <td>28963</td>\n",
       "      <td>nucleocapsid phosphoprotein</td>\n",
       "      <td>CASGLPYEQYF</td>\n",
       "      <td>TCRBV27-01</td>\n",
       "      <td>TCRBJ02-07</td>\n",
       "      <td>I</td>\n",
       "    </tr>\n",
       "    <tr>\n",
       "      <th>577</th>\n",
       "      <td>NGGDAALALLLLDRLNQLE,QASSRSSSRSRNSSRNSTP,RSRNSS...</td>\n",
       "      <td>eAV100</td>\n",
       "      <td>28814</td>\n",
       "      <td>28966</td>\n",
       "      <td>nucleocapsid phosphoprotein</td>\n",
       "      <td>CASSPRSSYEQYF</td>\n",
       "      <td>TCRBV18-01</td>\n",
       "      <td>TCRBJ02-07</td>\n",
       "      <td>II</td>\n",
       "    </tr>\n",
       "    <tr>\n",
       "      <th>578</th>\n",
       "      <td>NGGDAALALLLLDRLNQLE,QASSRSSSRSRNSSRNSTP,RSRNSS...</td>\n",
       "      <td>eNL187</td>\n",
       "      <td>28814</td>\n",
       "      <td>28966</td>\n",
       "      <td>nucleocapsid phosphoprotein</td>\n",
       "      <td>CASSLGTSYEQYF</td>\n",
       "      <td>TCRBV05-05</td>\n",
       "      <td>TCRBJ02-07</td>\n",
       "      <td>II</td>\n",
       "    </tr>\n",
       "  </tbody>\n",
       "</table>\n",
       "</div>"
      ],
      "text/plain": [
       "                                               epitope Experiment  \\\n",
       "534  ALALLLLDR,GDAALALLLL,LALLLLDRL,LLLDRLNQL,LLLLD...     eHO136   \n",
       "535  ALALLLLDR,GDAALALLLL,LALLLLDRL,LLLDRLNQL,LLLLD...      eOX49   \n",
       "536  ALALLLLDR,GDAALALLLL,LALLLLDRL,LLLDRLNQL,LLLLD...     eHO140   \n",
       "577  NGGDAALALLLLDRLNQLE,QASSRSSSRSRNSSRNSTP,RSRNSS...     eAV100   \n",
       "578  NGGDAALALLLLDRLNQLE,QASSRSSSRSRNSSRNSTP,RSRNSS...     eNL187   \n",
       "\n",
       "    Start Index in Genome End Index in Genome                 ORF Coverage  \\\n",
       "534                 28916               28963  nucleocapsid phosphoprotein   \n",
       "535                 28916               28963  nucleocapsid phosphoprotein   \n",
       "536                 28916               28963  nucleocapsid phosphoprotein   \n",
       "577                 28814               28966  nucleocapsid phosphoprotein   \n",
       "578                 28814               28966  nucleocapsid phosphoprotein   \n",
       "\n",
       "             cdr3b                 V           J MHC  \n",
       "534   CASSQGNYGYTF        TCRBV14-01  TCRBJ01-02   I  \n",
       "535   CASSQGNYGYTF  TCRBV03-01/03-02  TCRBJ01-02   I  \n",
       "536    CASGLPYEQYF        TCRBV27-01  TCRBJ02-07   I  \n",
       "577  CASSPRSSYEQYF        TCRBV18-01  TCRBJ02-07  II  \n",
       "578  CASSLGTSYEQYF        TCRBV05-05  TCRBJ02-07  II  "
      ]
     },
     "execution_count": 16,
     "metadata": {},
     "output_type": "execute_result"
    }
   ],
   "source": [
    "M1_Common[M1_Common['epitope'].str.contains('LLLDRLNQL') == True]"
   ]
  },
  {
   "cell_type": "code",
   "execution_count": 17,
   "id": "e1b62c1d",
   "metadata": {},
   "outputs": [
    {
     "data": {
      "text/plain": [
       "5"
      ]
     },
     "execution_count": 17,
     "metadata": {},
     "output_type": "execute_result"
    }
   ],
   "source": [
    "M1_Common[M1_Common['epitope'].str.contains('LLLDRLNQL') == True].shape[0]"
   ]
  },
  {
   "cell_type": "code",
   "execution_count": 18,
   "id": "69e3375b",
   "metadata": {},
   "outputs": [],
   "source": [
    "def search_TSCAN(Common_data,TSCAN_epitope):\n",
    "    table = np.zeros((len(TSCAN_epitope),1),dtype = int)\n",
    "    for index,epitope in enumerate(TSCAN_epitope):\n",
    "        table[index][0] = Common_data[Common_data['epitope'].str.contains(epitope) == True].shape[0]\n",
    "    return(table)"
   ]
  },
  {
   "cell_type": "code",
   "execution_count": 19,
   "id": "1a4b705e",
   "metadata": {},
   "outputs": [
    {
     "data": {
      "text/html": [
       "<div>\n",
       "<style scoped>\n",
       "    .dataframe tbody tr th:only-of-type {\n",
       "        vertical-align: middle;\n",
       "    }\n",
       "\n",
       "    .dataframe tbody tr th {\n",
       "        vertical-align: top;\n",
       "    }\n",
       "\n",
       "    .dataframe thead th {\n",
       "        text-align: right;\n",
       "    }\n",
       "</style>\n",
       "<table border=\"1\" class=\"dataframe\">\n",
       "  <thead>\n",
       "    <tr style=\"text-align: right;\">\n",
       "      <th></th>\n",
       "      <th>Frequency</th>\n",
       "    </tr>\n",
       "  </thead>\n",
       "  <tbody>\n",
       "    <tr>\n",
       "      <th>LLLDRLNQL</th>\n",
       "      <td>5</td>\n",
       "    </tr>\n",
       "    <tr>\n",
       "      <th>YLQPRTFLL</th>\n",
       "      <td>0</td>\n",
       "    </tr>\n",
       "    <tr>\n",
       "      <th>KLWAQCVQL</th>\n",
       "      <td>0</td>\n",
       "    </tr>\n",
       "    <tr>\n",
       "      <th>ALWEIQQVV</th>\n",
       "      <td>0</td>\n",
       "    </tr>\n",
       "    <tr>\n",
       "      <th>LLYDANYFL</th>\n",
       "      <td>3</td>\n",
       "    </tr>\n",
       "  </tbody>\n",
       "</table>\n",
       "</div>"
      ],
      "text/plain": [
       "           Frequency\n",
       "LLLDRLNQL          5\n",
       "YLQPRTFLL          0\n",
       "KLWAQCVQL          0\n",
       "ALWEIQQVV          0\n",
       "LLYDANYFL          3"
      ]
     },
     "execution_count": 19,
     "metadata": {},
     "output_type": "execute_result"
    }
   ],
   "source": [
    "pd.DataFrame(search_TSCAN(M1_Common,TSCAN_epitope),columns = ['Frequency'],index = TSCAN_epitope)"
   ]
  },
  {
   "cell_type": "markdown",
   "id": "5455fec9",
   "metadata": {},
   "source": [
    "## Cross Reference with CMV"
   ]
  },
  {
   "cell_type": "markdown",
   "id": "78a441d9",
   "metadata": {},
   "source": [
    "### Read CMV data\n",
    "In this CMV dataset, epiotpe is only NLVPMVATV. All cdrs are from HomoSapiens (human).\n",
    "All are HLA-A02 cdrs. All are MHC class I.\n",
    "format is ['Gene', 'cdr3', 'V', 'J']"
   ]
  },
  {
   "cell_type": "code",
   "execution_count": 20,
   "id": "21d50ee4",
   "metadata": {},
   "outputs": [],
   "source": [
    "CMV_data_folder = Path('./Data')\n",
    "CMV_pathlib = CMV_data_folder / 'VDJdb_CMV_TCR.tsv'\n",
    "CMV_raw = read_data_VDJdb(str(CMV_pathlib))\n",
    "CMV_raw = CMV_raw.drop_duplicates(ignore_index=True)\n",
    "# Rearrange CMV_data\n",
    "CMV_data = CMV_raw.loc[CMV_raw['Gene'] == 'TRB']\n",
    "CMV_data = CMV_data.rename(columns={'cdr3': 'cdr3b'})\n",
    "CMV_cdr3b = CMV_data[['cdr3b']]\n",
    "CMV_cdr3b = CMV_cdr3b.drop_duplicates(ignore_index=True)"
   ]
  },
  {
   "cell_type": "code",
   "execution_count": 21,
   "id": "e162fdbd",
   "metadata": {},
   "outputs": [
    {
     "data": {
      "text/plain": [
       "(4421, 1)"
      ]
     },
     "execution_count": 21,
     "metadata": {},
     "output_type": "execute_result"
    }
   ],
   "source": [
    "CMV_cdr3b.shape #4421 entries"
   ]
  },
  {
   "cell_type": "markdown",
   "id": "1ab30dd3",
   "metadata": {},
   "source": [
    "### Find shared CDR3b of CMV with COVID-19"
   ]
  },
  {
   "cell_type": "code",
   "execution_count": 22,
   "id": "f87a6732",
   "metadata": {},
   "outputs": [],
   "source": [
    "CMV_Common = pd.DataFrame(columns=MIRA_data.columns.values.tolist())\n",
    "for index, row in MIRA_data.iterrows():\n",
    "    if row['cdr3b'] in CMV_cdr3b['cdr3b'].values:\n",
    "        CMV_Common = CMV_Common.append(row, ignore_index=True)"
   ]
  },
  {
   "cell_type": "code",
   "execution_count": 23,
   "id": "46d7fde0",
   "metadata": {},
   "outputs": [
    {
     "data": {
      "text/plain": [
       "274"
      ]
     },
     "execution_count": 23,
     "metadata": {},
     "output_type": "execute_result"
    }
   ],
   "source": [
    "len(pd.unique(CMV_Common['cdr3b']))"
   ]
  },
  {
   "cell_type": "markdown",
   "id": "c3de8fbe",
   "metadata": {},
   "source": [
    "### Write to file"
   ]
  },
  {
   "cell_type": "code",
   "execution_count": 24,
   "id": "03529b5b",
   "metadata": {},
   "outputs": [],
   "source": [
    "CMV_Common.to_csv(str(MIRA_data_folder / \"Output/CMV_Common.csv\"), index=False)"
   ]
  },
  {
   "cell_type": "markdown",
   "id": "a7b63b2f",
   "metadata": {},
   "source": [
    "### Appearance of TSCAN epitopes in shared CDR3b binding targets"
   ]
  },
  {
   "cell_type": "code",
   "execution_count": 25,
   "id": "a11be827",
   "metadata": {},
   "outputs": [
    {
     "data": {
      "text/html": [
       "<div>\n",
       "<style scoped>\n",
       "    .dataframe tbody tr th:only-of-type {\n",
       "        vertical-align: middle;\n",
       "    }\n",
       "\n",
       "    .dataframe tbody tr th {\n",
       "        vertical-align: top;\n",
       "    }\n",
       "\n",
       "    .dataframe thead th {\n",
       "        text-align: right;\n",
       "    }\n",
       "</style>\n",
       "<table border=\"1\" class=\"dataframe\">\n",
       "  <thead>\n",
       "    <tr style=\"text-align: right;\">\n",
       "      <th></th>\n",
       "      <th>Frequency</th>\n",
       "    </tr>\n",
       "  </thead>\n",
       "  <tbody>\n",
       "    <tr>\n",
       "      <th>LLLDRLNQL</th>\n",
       "      <td>1</td>\n",
       "    </tr>\n",
       "    <tr>\n",
       "      <th>YLQPRTFLL</th>\n",
       "      <td>3</td>\n",
       "    </tr>\n",
       "    <tr>\n",
       "      <th>KLWAQCVQL</th>\n",
       "      <td>0</td>\n",
       "    </tr>\n",
       "    <tr>\n",
       "      <th>ALWEIQQVV</th>\n",
       "      <td>0</td>\n",
       "    </tr>\n",
       "    <tr>\n",
       "      <th>LLYDANYFL</th>\n",
       "      <td>27</td>\n",
       "    </tr>\n",
       "  </tbody>\n",
       "</table>\n",
       "</div>"
      ],
      "text/plain": [
       "           Frequency\n",
       "LLLDRLNQL          1\n",
       "YLQPRTFLL          3\n",
       "KLWAQCVQL          0\n",
       "ALWEIQQVV          0\n",
       "LLYDANYFL         27"
      ]
     },
     "execution_count": 25,
     "metadata": {},
     "output_type": "execute_result"
    }
   ],
   "source": [
    "pd.DataFrame(search_TSCAN(CMV_Common,TSCAN_epitope),columns = ['Frequency'],index = TSCAN_epitope)"
   ]
  },
  {
   "cell_type": "markdown",
   "id": "d6c976a9",
   "metadata": {},
   "source": [
    "## Cross Reference with MART-1"
   ]
  },
  {
   "cell_type": "markdown",
   "id": "9f094437",
   "metadata": {},
   "source": [
    "### Read MART-1 data"
   ]
  },
  {
   "cell_type": "markdown",
   "id": "ae765d53",
   "metadata": {},
   "source": [
    "In this MART1 dataset, epiotpe is only ELAGIGILTV. All cdrs are from HomoSapiens (human).\n",
    "All are HLA-A02 cdrs. All are MHC class I.\n",
    "format is ['Gene', 'cdr3', 'V', 'J']"
   ]
  },
  {
   "cell_type": "code",
   "execution_count": 26,
   "id": "555f0c66",
   "metadata": {},
   "outputs": [],
   "source": [
    "MART1_data_folder = Path('./Data')\n",
    "MART1_pathlib = MART1_data_folder / 'VDJdb_MART1_TCR.tsv'\n",
    "MART1_raw = read_data_VDJdb(str(MART1_pathlib))\n",
    "MART1_raw = MART1_raw.drop_duplicates(ignore_index=True)\n",
    "# Rearrange MART1_data\n",
    "MART1_data = MART1_raw.loc[MART1_raw['Gene'] == 'TRB']\n",
    "MART1_data = MART1_data.rename(columns={'cdr3': 'cdr3b'})\n",
    "MART1_cdr3b = MART1_data[['cdr3b']]\n",
    "MART1_cdr3b = MART1_cdr3b.drop_duplicates(ignore_index=True)"
   ]
  },
  {
   "cell_type": "code",
   "execution_count": 27,
   "id": "9293d495",
   "metadata": {},
   "outputs": [
    {
     "data": {
      "text/plain": [
       "(1409, 1)"
      ]
     },
     "execution_count": 27,
     "metadata": {},
     "output_type": "execute_result"
    }
   ],
   "source": [
    "MART1_cdr3b.shape"
   ]
  },
  {
   "cell_type": "markdown",
   "id": "0945fdde",
   "metadata": {},
   "source": [
    "### Find shared CDR3b of MART1 with COVID-19"
   ]
  },
  {
   "cell_type": "code",
   "execution_count": 28,
   "id": "471c9b9e",
   "metadata": {},
   "outputs": [],
   "source": [
    "MART1_Common = pd.DataFrame(columns=MIRA_data.columns.values.tolist())\n",
    "for index, row in MIRA_data.iterrows():\n",
    "    if row['cdr3b'] in MART1_cdr3b['cdr3b'].values:\n",
    "        MART1_Common = MART1_Common.append(row, ignore_index=True)"
   ]
  },
  {
   "cell_type": "code",
   "execution_count": 29,
   "id": "2d94c7dd",
   "metadata": {},
   "outputs": [
    {
     "data": {
      "text/plain": [
       "89"
      ]
     },
     "execution_count": 29,
     "metadata": {},
     "output_type": "execute_result"
    }
   ],
   "source": [
    "len(pd.unique(MART1_Common['cdr3b']))"
   ]
  },
  {
   "cell_type": "markdown",
   "id": "8152e75d",
   "metadata": {},
   "source": [
    "### Write to file"
   ]
  },
  {
   "cell_type": "code",
   "execution_count": 30,
   "id": "31de727e",
   "metadata": {},
   "outputs": [],
   "source": [
    "MART1_Common.to_csv(str(MIRA_data_folder / \"Output/MART1_Common.csv\"), index=False)"
   ]
  },
  {
   "cell_type": "markdown",
   "id": "bb6023d8",
   "metadata": {},
   "source": [
    "### Appearance of TSCAN epitopes in shared CDR3b binding targets"
   ]
  },
  {
   "cell_type": "code",
   "execution_count": 31,
   "id": "c929c1d6",
   "metadata": {},
   "outputs": [
    {
     "data": {
      "text/html": [
       "<div>\n",
       "<style scoped>\n",
       "    .dataframe tbody tr th:only-of-type {\n",
       "        vertical-align: middle;\n",
       "    }\n",
       "\n",
       "    .dataframe tbody tr th {\n",
       "        vertical-align: top;\n",
       "    }\n",
       "\n",
       "    .dataframe thead th {\n",
       "        text-align: right;\n",
       "    }\n",
       "</style>\n",
       "<table border=\"1\" class=\"dataframe\">\n",
       "  <thead>\n",
       "    <tr style=\"text-align: right;\">\n",
       "      <th></th>\n",
       "      <th>Frequency</th>\n",
       "    </tr>\n",
       "  </thead>\n",
       "  <tbody>\n",
       "    <tr>\n",
       "      <th>LLLDRLNQL</th>\n",
       "      <td>1</td>\n",
       "    </tr>\n",
       "    <tr>\n",
       "      <th>YLQPRTFLL</th>\n",
       "      <td>1</td>\n",
       "    </tr>\n",
       "    <tr>\n",
       "      <th>KLWAQCVQL</th>\n",
       "      <td>0</td>\n",
       "    </tr>\n",
       "    <tr>\n",
       "      <th>ALWEIQQVV</th>\n",
       "      <td>0</td>\n",
       "    </tr>\n",
       "    <tr>\n",
       "      <th>LLYDANYFL</th>\n",
       "      <td>4</td>\n",
       "    </tr>\n",
       "  </tbody>\n",
       "</table>\n",
       "</div>"
      ],
      "text/plain": [
       "           Frequency\n",
       "LLLDRLNQL          1\n",
       "YLQPRTFLL          1\n",
       "KLWAQCVQL          0\n",
       "ALWEIQQVV          0\n",
       "LLYDANYFL          4"
      ]
     },
     "execution_count": 31,
     "metadata": {},
     "output_type": "execute_result"
    }
   ],
   "source": [
    "pd.DataFrame(search_TSCAN(MART1_Common,TSCAN_epitope),columns = ['Frequency'],index = TSCAN_epitope)"
   ]
  }
 ],
 "metadata": {
  "kernelspec": {
   "display_name": "Python 3",
   "language": "python",
   "name": "python3"
  },
  "language_info": {
   "codemirror_mode": {
    "name": "ipython",
    "version": 3
   },
   "file_extension": ".py",
   "mimetype": "text/x-python",
   "name": "python",
   "nbconvert_exporter": "python",
   "pygments_lexer": "ipython3",
   "version": "3.8.8"
  }
 },
 "nbformat": 4,
 "nbformat_minor": 5
}
